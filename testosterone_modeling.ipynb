{
 "cells": [
  {
   "cell_type": "markdown",
   "metadata": {},
   "source": [
    "# Mathematical and computational modeling of Testosterone secretion"
   ]
  },
  {
   "cell_type": "code",
   "execution_count": 6,
   "metadata": {},
   "outputs": [],
   "source": [
    "import numpy as np\n",
    "import scipy.integrate\n",
    "import scipy.interpolate\n",
    "import scipy.optimize\n",
    "\n",
    "import bokeh.models\n",
    "import bokeh.plotting\n",
    "import bokeh.io\n",
    "\n",
    "from jitcdde import jitcdde, y, t"
   ]
  },
  {
   "cell_type": "markdown",
   "metadata": {},
   "source": [
    "### Introduction\n",
    "In this blog, I would like to demonstrate how the systems biology can help us to improve our understanding of the physiological processes in the body. To do this, we will reproduce some of the results by the old, but still important paper by Mark Cartwright and Masud Husain [1]."
   ]
  },
  {
   "cell_type": "markdown",
   "metadata": {},
   "source": [
    "### Numerical solution of the Delay Differential Equations\n",
    "This approach is taken from the fantastic course [Design Principles of Genetic Circuits](http://be150.caltech.edu/2019) by Justin Bois and Michael Elowitz from Caltech. If you want to learn more about modelling of biological systems, systems biology and synthetic biology, definitely check the link!\n",
    "\n",
    "We will use the method of steps."
   ]
  },
  {
   "cell_type": "code",
   "execution_count": 2,
   "metadata": {},
   "outputs": [],
   "source": [
    "def ddeint(func, y0, t, tau, args=(), y0_args=(), n_time_points_per_step=200):\n",
    "    \"\"\"Integrate the system of delay differential equations.\"\"\"\n",
    "    \n",
    "    t0 = t[0]\n",
    "    y_dense = []\n",
    "    t_dense = []\n",
    "    \n",
    "    # Past function for the first step\n",
    "    y_past = lambda t: y0(t, *y0_args)\n",
    "    \n",
    "    # Integrate the first step\n",
    "    t_step = np.linspace(t0, t0+tau, n_time_points_per_step)\n",
    "    y = scipy.integrate.odeint(func, y_past(t0), t_step, args=(y_past,)+args)\n",
    "    \n",
    "    # Store the result from integration\n",
    "    y_dense.append(y[:-1, :])\n",
    "    t_dense.append(t_step[:-1])\n",
    "    \n",
    "    # Get the dimension of problem for convenience\n",
    "    n = y.shape[1]\n",
    "    \n",
    "    # Integrate subsequent steps\n",
    "    j = 1\n",
    "    while t_step[-1] < t[-1] and j < 100:\n",
    "        # Make B-spline\n",
    "        tck = [scipy.interpolate.splrep(t_step, y[:,i]) for i in range(n)]\n",
    "        \n",
    "        # Interpolant of y from previous step\n",
    "        y_past = lambda t: np.array([scipy.interpolate.splev(t, tck[i]) for i in range(n)])\n",
    "        \n",
    "        # Integrate this step\n",
    "        t_step = np.linspace(t0 + j*tau, t0 + (j+1)*tau, n_time_points_per_step)\n",
    "        y = scipy.integrate.odeint(func, y[-1.:], t_step, args=(y_past,)+args)\n",
    "\n",
    "        # Store the result\n",
    "        y_dense.append(y[:-1, :])\n",
    "        t_dense.append(t_step[:-1])\n",
    "\n",
    "        j += 1\n",
    "    \n",
    "    # Concatenate results from steps\n",
    "    y_dense = np.concatenate(y_dense)\n",
    "    t_dense = np.concatenate(t_dense)\n",
    "    \n",
    "    # Interpolate solution for returniing\n",
    "    y_return = np.empty((len(t), n))\n",
    "    \n",
    "    for i in range(n):\n",
    "        tck = scipy.interpolate.splrep(t_dense, y_dense[:,i])\n",
    "        y_return[:,i] = scipy.interpolate.splev(t, tck)\n",
    "    \n",
    "    return y_return"
   ]
  },
  {
   "cell_type": "code",
   "execution_count": 3,
   "metadata": {},
   "outputs": [],
   "source": [
    "# Right hand side of the testosterone model\n"
   ]
  },
  {
   "cell_type": "markdown",
   "metadata": {},
   "source": [
    "### References\n",
    "[1] Cartwright, M., & Husain, M. (1986). A model for the control of testosterone secretion. *Journal of Theoretical Biology*, 123(2), 239–250. https://doi.org/10.1016/S0022-5193(86)80158-8"
   ]
  },
  {
   "cell_type": "code",
   "execution_count": 22,
   "metadata": {},
   "outputs": [
    {
     "name": "stdout",
     "output_type": "stream",
     "text": [
      "Generating, compiling, and loading C code.\n",
      "Using default integration parameters.\n"
     ]
    },
    {
     "ename": "UnsuccessfulIntegration",
     "evalue": "\nCould not integrate with the given tolerance parameters:\n\natol: 1.000000e-10\nrtol: 1.000000e-05\nmin_step: 1.000000e-10\n\nThe most likely reasons for this are:\n• You did not sufficiently address initial discontinuities. (If your dynamics is fast, did you adjust the maximum step?)\n• The DDE is ill-posed or stiff.",
     "output_type": "error",
     "traceback": [
      "\u001b[0;31m---------------------------------------------------------------------------\u001b[0m",
      "\u001b[0;31mUnsuccessfulIntegration\u001b[0m                   Traceback (most recent call last)",
      "\u001b[0;32m<ipython-input-22-88a240a29513>\u001b[0m in \u001b[0;36m<module>\u001b[0;34m\u001b[0m\n\u001b[1;32m     37\u001b[0m \u001b[0mtimes\u001b[0m \u001b[0;34m=\u001b[0m \u001b[0mrange\u001b[0m\u001b[0;34m(\u001b[0m\u001b[0;36m50\u001b[0m\u001b[0;34m,\u001b[0m\u001b[0;36m101\u001b[0m\u001b[0;34m)\u001b[0m\u001b[0;34m\u001b[0m\u001b[0;34m\u001b[0m\u001b[0m\n\u001b[1;32m     38\u001b[0m \u001b[0;32mfor\u001b[0m \u001b[0mtime\u001b[0m \u001b[0;32min\u001b[0m \u001b[0mtimes\u001b[0m\u001b[0;34m:\u001b[0m\u001b[0;34m\u001b[0m\u001b[0;34m\u001b[0m\u001b[0m\n\u001b[0;32m---> 39\u001b[0;31m     \u001b[0mprint\u001b[0m\u001b[0;34m(\u001b[0m\u001b[0mI\u001b[0m\u001b[0;34m.\u001b[0m\u001b[0mintegrate\u001b[0m\u001b[0;34m(\u001b[0m\u001b[0mtime\u001b[0m\u001b[0;34m)\u001b[0m\u001b[0;34m[\u001b[0m\u001b[0;36m0\u001b[0m\u001b[0;34m]\u001b[0m\u001b[0;34m)\u001b[0m\u001b[0;34m\u001b[0m\u001b[0;34m\u001b[0m\u001b[0m\n\u001b[0m",
      "\u001b[0;32m/anaconda3/lib/python3.6/site-packages/jitcdde/_jitcdde.py\u001b[0m in \u001b[0;36mintegrate\u001b[0;34m(self, target_time)\u001b[0m\n\u001b[1;32m    744\u001b[0m                                         \u001b[0;32mcontinue\u001b[0m\u001b[0;34m\u001b[0m\u001b[0;34m\u001b[0m\u001b[0m\n\u001b[1;32m    745\u001b[0m \u001b[0;34m\u001b[0m\u001b[0m\n\u001b[0;32m--> 746\u001b[0;31m                         \u001b[0;32mif\u001b[0m \u001b[0mself\u001b[0m\u001b[0;34m.\u001b[0m\u001b[0m_adjust_step_size\u001b[0m\u001b[0;34m(\u001b[0m\u001b[0;34m)\u001b[0m\u001b[0;34m:\u001b[0m\u001b[0;34m\u001b[0m\u001b[0;34m\u001b[0m\u001b[0m\n\u001b[0m\u001b[1;32m    747\u001b[0m                                 \u001b[0mself\u001b[0m\u001b[0;34m.\u001b[0m\u001b[0mDDE\u001b[0m\u001b[0;34m.\u001b[0m\u001b[0maccept_step\u001b[0m\u001b[0;34m(\u001b[0m\u001b[0;34m)\u001b[0m\u001b[0;34m\u001b[0m\u001b[0;34m\u001b[0m\u001b[0m\n\u001b[1;32m    748\u001b[0m \u001b[0;34m\u001b[0m\u001b[0m\n",
      "\u001b[0;32m/anaconda3/lib/python3.6/site-packages/jitcdde/_jitcdde.py\u001b[0m in \u001b[0;36m_adjust_step_size\u001b[0;34m(self)\u001b[0m\n\u001b[1;32m    674\u001b[0m                 \u001b[0;32mif\u001b[0m \u001b[0mp\u001b[0m \u001b[0;34m>\u001b[0m \u001b[0mself\u001b[0m\u001b[0;34m.\u001b[0m\u001b[0mdecrease_threshold\u001b[0m\u001b[0;34m:\u001b[0m\u001b[0;34m\u001b[0m\u001b[0;34m\u001b[0m\u001b[0m\n\u001b[1;32m    675\u001b[0m                         \u001b[0mself\u001b[0m\u001b[0;34m.\u001b[0m\u001b[0mdt\u001b[0m \u001b[0;34m*=\u001b[0m \u001b[0mmax\u001b[0m\u001b[0;34m(\u001b[0m\u001b[0mself\u001b[0m\u001b[0;34m.\u001b[0m\u001b[0msafety_factor\u001b[0m\u001b[0;34m*\u001b[0m\u001b[0mp\u001b[0m\u001b[0;34m**\u001b[0m\u001b[0;34m(\u001b[0m\u001b[0;34m-\u001b[0m\u001b[0;36m1\u001b[0m\u001b[0;34m/\u001b[0m\u001b[0mself\u001b[0m\u001b[0;34m.\u001b[0m\u001b[0mq\u001b[0m\u001b[0;34m)\u001b[0m\u001b[0;34m,\u001b[0m \u001b[0mself\u001b[0m\u001b[0;34m.\u001b[0m\u001b[0mmin_factor\u001b[0m\u001b[0;34m)\u001b[0m\u001b[0;34m\u001b[0m\u001b[0;34m\u001b[0m\u001b[0m\n\u001b[0;32m--> 676\u001b[0;31m                         \u001b[0mself\u001b[0m\u001b[0;34m.\u001b[0m\u001b[0m_control_for_min_step\u001b[0m\u001b[0;34m(\u001b[0m\u001b[0;34m)\u001b[0m\u001b[0;34m\u001b[0m\u001b[0;34m\u001b[0m\u001b[0m\n\u001b[0m\u001b[1;32m    677\u001b[0m                         \u001b[0;32mreturn\u001b[0m \u001b[0;32mFalse\u001b[0m\u001b[0;34m\u001b[0m\u001b[0;34m\u001b[0m\u001b[0m\n\u001b[1;32m    678\u001b[0m                 \u001b[0;32melse\u001b[0m\u001b[0;34m:\u001b[0m\u001b[0;34m\u001b[0m\u001b[0;34m\u001b[0m\u001b[0m\n",
      "\u001b[0;32m/anaconda3/lib/python3.6/site-packages/jitcdde/_jitcdde.py\u001b[0m in \u001b[0;36m_control_for_min_step\u001b[0;34m(self)\u001b[0m\n\u001b[1;32m    660\u001b[0m                         \u001b[0;32mif\u001b[0m \u001b[0mself\u001b[0m\u001b[0;34m.\u001b[0m\u001b[0matol\u001b[0m\u001b[0;34m==\u001b[0m\u001b[0;36m0\u001b[0m\u001b[0;34m:\u001b[0m\u001b[0;34m\u001b[0m\u001b[0;34m\u001b[0m\u001b[0m\n\u001b[1;32m    661\u001b[0m                                 \u001b[0mmessage\u001b[0m \u001b[0;34m+=\u001b[0m \u001b[0;34m\"\\n• You did not allow for an absolute error tolerance (atol) though your DDE calls for it. Even a very small absolute tolerance (1e-16) may sometimes help.\"\u001b[0m\u001b[0;34m\u001b[0m\u001b[0;34m\u001b[0m\u001b[0m\n\u001b[0;32m--> 662\u001b[0;31m                         \u001b[0;32mraise\u001b[0m \u001b[0mUnsuccessfulIntegration\u001b[0m\u001b[0;34m(\u001b[0m\u001b[0mmessage\u001b[0m\u001b[0;34m)\u001b[0m\u001b[0;34m\u001b[0m\u001b[0;34m\u001b[0m\u001b[0m\n\u001b[0m\u001b[1;32m    663\u001b[0m \u001b[0;34m\u001b[0m\u001b[0m\n\u001b[1;32m    664\u001b[0m         \u001b[0;32mdef\u001b[0m \u001b[0m_increase_chance\u001b[0m\u001b[0;34m(\u001b[0m\u001b[0mself\u001b[0m\u001b[0;34m,\u001b[0m \u001b[0mnew_dt\u001b[0m\u001b[0;34m)\u001b[0m\u001b[0;34m:\u001b[0m\u001b[0;34m\u001b[0m\u001b[0;34m\u001b[0m\u001b[0m\n",
      "\u001b[0;31mUnsuccessfulIntegration\u001b[0m: \nCould not integrate with the given tolerance parameters:\n\natol: 1.000000e-10\nrtol: 1.000000e-05\nmin_step: 1.000000e-10\n\nThe most likely reasons for this are:\n• You did not sufficiently address initial discontinuities. (If your dynamics is fast, did you adjust the maximum step?)\n• The DDE is ill-posed or stiff."
     ]
    }
   ],
   "source": [
    "from jitcdde import y, t\n",
    "from jitcdde import jitcdde\n",
    "from symengine import tanh\n",
    "\n",
    "# Define the parameters\n",
    "rR = 0.1 \n",
    "rL = 5\n",
    "rT = 0.01\n",
    "\n",
    "dR = 0.10\n",
    "dL = 0.015\n",
    "dT = 0.023\n",
    "\n",
    "tauHP = 3\n",
    "tauPT = 5\n",
    "tauTH = 5\n",
    "tauPH = 5\n",
    "tau0 = 25\n",
    "\n",
    "Lhat = 30\n",
    "That = 8\n",
    "\n",
    "# Modulate the tanh\n",
    "delta = 1\n",
    "\n",
    "\n",
    "testosterone_f = [\n",
    "-dR * y(0) + rR * 0.5 * (1 + tanh((2 - y(1,t - tauPH)/Lhat - y(2,t - tauTH)/That)/delta)),\n",
    "-dL * y(1) + rL * y(0, t - tauHP),\n",
    "-dT * y(2) + rT * y(1, t - tauPT - tau0)\n",
    "]\n",
    "\n",
    "I = jitcdde(testosterone_f)\n",
    "I.constant_past( [10.0, 0.0, 0.0], time=0.0)\n",
    "I.step_on_discontinuities()\n",
    "\n",
    "times = range(50,101)\n",
    "for time in times:\n",
    "    print(I.integrate(time)[0])"
   ]
  },
  {
   "cell_type": "code",
   "execution_count": 13,
   "metadata": {},
   "outputs": [],
   "source": []
  },
  {
   "cell_type": "code",
   "execution_count": null,
   "metadata": {},
   "outputs": [],
   "source": [
    "0.5*(1 + tanh((2 - y(1,t - tauPH)/Lhat - y(2,t - tauTH)/That)/delta))"
   ]
  }
 ],
 "metadata": {
  "kernelspec": {
   "display_name": "Python 3",
   "language": "python",
   "name": "python3"
  },
  "language_info": {
   "codemirror_mode": {
    "name": "ipython",
    "version": 3
   },
   "file_extension": ".py",
   "mimetype": "text/x-python",
   "name": "python",
   "nbconvert_exporter": "python",
   "pygments_lexer": "ipython3",
   "version": "3.6.7"
  }
 },
 "nbformat": 4,
 "nbformat_minor": 2
}
